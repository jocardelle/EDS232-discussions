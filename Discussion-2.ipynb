{
 "cells": [
  {
   "cell_type": "markdown",
   "id": "3c0b8859-3379-4ef6-a6be-a89932ad5127",
   "metadata": {},
   "source": [
    "# Discussion Week 2\n",
    "\n",
    "Utilizing synthesized data to better understand ridge and lasso regression\n",
    "\n",
    "1/16/2025"
   ]
  },
  {
   "cell_type": "code",
   "execution_count": 9,
   "id": "a6a9433a-09b4-4bb0-91db-6e9ea59e23ee",
   "metadata": {
    "tags": []
   },
   "outputs": [],
   "source": [
    "# Import necessary libraries\n",
    "import pandas as pd\n",
    "import numpy as np\n",
    "import matplotlib.pyplot as plt\n",
    "from sklearn.model_selection import train_test_split\n",
    "from sklearn.linear_model import Lasso, Ridge\n",
    "from sklearn.metrics import mean_squared_error, r2_score\n",
    "from ipywidgets import interact, FloatLogSlider\n",
    "\n",
    "# Generate data\n",
    "np.random.seed(42)\n",
    "n_samples = 200\n",
    "X = np.zeros((n_samples, 6))\n",
    "X[:, 0] = np.random.normal(0, 1, n_samples)  # X1 - Important feature\n",
    "X[:, 1] = np.random.normal(0, 1, n_samples)  # X2 -  Important feature\n",
    "X[:, 2] = X[:, 0] + np.random.normal(0, 0.1, n_samples)  # Correlated with X1\n",
    "X[:, 3] = X[:, 1] + np.random.normal(0, 0.1, n_samples)  # Correlated with X2\n",
    "X[:, 4] = np.random.normal(0, 0.1, n_samples)  # Noise\n",
    "X[:, 5] = np.random.normal(0, 0.1, n_samples)  # Noise\n",
    "\n",
    "y = 3 * X[:, 0] + 2 * X[:, 1] + 0.5 * X[:, 2] + np.random.normal(0, 0.1, n_samples) "
   ]
  },
  {
   "cell_type": "code",
   "execution_count": 2,
   "id": "727fd4b8-d606-4d2c-acf3-fc6ae81aa25d",
   "metadata": {
    "tags": []
   },
   "outputs": [],
   "source": [
    "# Split into training and testing sets\n",
    "X_train, X_test, y_train, y_test = train_test_split(X, y, test_size = 0.3, random_state = 42)"
   ]
  },
  {
   "cell_type": "markdown",
   "id": "0cb66d75-f182-40b1-b68e-104550451e70",
   "metadata": {},
   "source": [
    "## Ridge Regression"
   ]
  },
  {
   "cell_type": "code",
   "execution_count": 4,
   "id": "1fd88d02-324f-40af-a036-6fc1a85b5ec0",
   "metadata": {
    "tags": []
   },
   "outputs": [
    {
     "name": "stdout",
     "output_type": "stream",
     "text": [
      "Ridge Regression RMSE: 0.14410020171824975\n",
      "Ridge Regression R^2: 0.9984722762470865\n"
     ]
    }
   ],
   "source": [
    "# Create and fit ridge regression model\n",
    "ridge_model = Ridge()\n",
    "ridge_model.fit(X_train, y_train)\n",
    "ridge_predictions = ridge_model.predict(X_test)\n",
    "\n",
    "# Calculate MSE and R^2 for ridge regression\n",
    "\n",
    "ridge_rmse = np.sqrt(mean_squared_error(y_test, ridge_predictions))\n",
    "ridge_r2 = r2_score(y_test, ridge_predictions)\n",
    "\n",
    "print(\"Ridge Regression RMSE:\", ridge_rmse)\n",
    "print(\"Ridge Regression R^2:\", ridge_r2)"
   ]
  },
  {
   "cell_type": "markdown",
   "id": "e9c3f5de-3d93-4767-9a3e-272cd3c71142",
   "metadata": {},
   "source": [
    "## Lasso Regression"
   ]
  },
  {
   "cell_type": "code",
   "execution_count": 5,
   "id": "bbc3cc03-ef28-4b88-8924-21199d725a30",
   "metadata": {
    "tags": []
   },
   "outputs": [
    {
     "name": "stdout",
     "output_type": "stream",
     "text": [
      "Lasso Regression RMSE: 1.2984978990079017\n",
      "Lasso Regression R^2: 0.8759496036905758\n"
     ]
    }
   ],
   "source": [
    "# Create and fit Lasso regression model\n",
    "lasso_model = Lasso()\n",
    "lasso_model.fit(X_train, y_train)\n",
    "lasso_predictions = lasso_model.predict(X_test)\n",
    "\n",
    "# Calculate MSE and R^2 for Lasso regression\n",
    "lasso_rmse = np.sqrt(mean_squared_error(y_test, lasso_predictions))\n",
    "lasso_r2 = r2_score(y_test, lasso_predictions)\n",
    "\n",
    "print(\"Lasso Regression RMSE:\", lasso_rmse)\n",
    "print(\"Lasso Regression R^2:\", lasso_r2)"
   ]
  },
  {
   "cell_type": "markdown",
   "id": "807bce78-7987-428b-9f5b-d2bed1d53803",
   "metadata": {},
   "source": [
    "## Visualizations"
   ]
  },
  {
   "cell_type": "code",
   "execution_count": 11,
   "id": "2540ebba-e164-4a3d-a031-503932c894d9",
   "metadata": {
    "tags": []
   },
   "outputs": [],
   "source": [
    "# Visualize alphas vs RMSE for lasso and ridge\n",
    "\n",
    "#plt.figure(figsize=(10, 5))\n",
    "#plt.plot(alphas, lasso_rmse, label = 'Lasso MSE')\n",
    "#plt.plot(alphas, ridge_rmse, label = 'Ridge MSE')\n",
    "\n",
    "#plt.xscale('log')\n",
    "#plt.xlabel('Alpha')\n",
    "#plt.ylabel('Root Mean Squared Error')\n",
    "#plt.ylabel()\n",
    "#plt.title('RMSE vs Alpha for Lasso and Ridge Regression')\n",
    "#plt.legend()\n",
    "#plt.show()"
   ]
  },
  {
   "cell_type": "markdown",
   "id": "ac510d80-3861-4cbc-a5cb-5d3ee9d2ceeb",
   "metadata": {},
   "source": [
    "# Coefficient Bar Plot"
   ]
  },
  {
   "cell_type": "code",
   "execution_count": 10,
   "id": "66f19ec6-cc55-405a-bbd5-53e40beff768",
   "metadata": {
    "tags": []
   },
   "outputs": [
    {
     "data": {
      "image/png": "[encoded data removed]",
      "text/plain": [
       "<Figure size 1500x500 with 3 Axes>"
      ]
     },
     "metadata": {},
     "output_type": "display_data"
    }
   ],
   "source": [
    "alphas = [0.1, 1, 10]\n",
    "data = []\n",
    "\n",
    "for alpha in alphas:\n",
    "    ridge = Ridge(alpha = alpha).fit(X,y)\n",
    "    lasso = Lasso(alpha = alpha).fit(X, y)\n",
    "    \n",
    "    data.append(pd.DataFrame({\n",
    "        'Ridge': ridge.coef_,\n",
    "        'Lasso': lasso.coef_,\n",
    "    }, index = ['X1', 'X2', 'X1_Corr', 'X2_Corr', 'Noise1', 'Noise2']))\n",
    "    \n",
    "    \n",
    "fig, axes = plt.subplots(1, 3, figsize = (15,5), sharey = True)\n",
    "for i,df in enumerate(data):\n",
    "    df.plot.bar(ax = axes[i], width = 0.8)\n",
    "    axes[i].set_title(f'Alpha = {alphas[i]}')\n",
    "    axes[i].set_xticklabels(df.index, rotation = 45)\n",
    "    \n",
    "plt.show()\n",
    "    "
   ]
  },
  {
   "cell_type": "code",
   "execution_count": 14,
   "id": "4902968c-809e-46ca-9627-b484bab6a4ea",
   "metadata": {
    "tags": []
   },
   "outputs": [
    {
     "data": {
      "application/vnd.jupyter.widget-view+json": {
       "model_id": "6cc7a756b3854dedababcf3600c39a88",
       "version_major": 2,
       "version_minor": 0
      },
      "text/plain": [
       "interactive(children=(FloatLogSlider(value=1.0, description='Alpha', max=3.0, min=-3.0), Dropdown(description=…"
      ]
     },
     "metadata": {},
     "output_type": "display_data"
    },
    {
     "data": {
      "text/plain": [
       "<function __main__.update_alphas(alpha, model_type)>"
      ]
     },
     "execution_count": 14,
     "metadata": {},
     "output_type": "execute_result"
    }
   ],
   "source": [
    "# Function for generating plot\n",
    "def update_alphas(alpha, model_type):\n",
    "    if model_type == 'Lasso':\n",
    "        model = Lasso(alpha = alpha)\n",
    "    else:\n",
    "        model = Ridge(alpha = alpha)\n",
    "        \n",
    "    model.fit(X_train, y_train)\n",
    "    y_pred = model.predict(X_test)\n",
    "    \n",
    "    rmse = np.sqrt(mean_squared_error(y_test, y_pred))\n",
    "    r2 = r2_score(y_test, y_pred)\n",
    "    \n",
    "    \n",
    "    plt.figure(figsize = (10,5))\n",
    "    plt.scatter(y_test, y_pred, color = 'blue', alpha = 0.5, label = f'Predictions (alpha = {alpha})')\n",
    "    plt.plot([y_test.min(), y_test.max()], [y_test.min(), y_test.max()], 'k--', lw=2)\n",
    "    plt.title(f'{model_type} Regression: Predictions vs Actual (alpha = {alpha})')\n",
    "    plt.xlabel('Actual values')\n",
    "    plt.ylabel('Predicted values')\n",
    "    plt.legend()\n",
    "    plt.figtext(0.5, -0.05, f'RMSE: {rmse}, R2: {r2}', ha = \"center\", fontsize = 12, bbox = {\"facecolor\": \"orange\"})\n",
    "    plt.show()\n",
    "    \n",
    "    \n",
    "# Create interactive widgets\n",
    "alpha_slider = FloatLogSlider(value = 1.0, base = 10, min = -3, max = 3, step = 0.1, description= 'Alpha')\n",
    "model_selector = {'Lasso Model': 'Lasso', 'Ridge':'Ridge'}\n",
    "\n",
    "interact(update_alphas, alpha = alpha_slider, model_type = model_selector)\n"
   ]
  },
  {
   "cell_type": "code",
   "execution_count": null,
   "id": "aeb31bc9-1e90-4169-92d9-b3d627c96e60",
   "metadata": {},
   "outputs": [],
   "source": []
  }
 ],
 "metadata": {
  "kernelspec": {
   "display_name": "Anaconda 3 (EDS232)",
   "language": "python",
   "name": "ml-env"
  },
  "language_info": {
   "codemirror_mode": {
    "name": "ipython",
    "version": 3
   },
   "file_extension": ".py",
   "mimetype": "text/x-python",
   "name": "python",
   "nbconvert_exporter": "python",
   "pygments_lexer": "ipython3",
   "version": "3.10.16"
  }
 },
 "nbformat": 4,
 "nbformat_minor": 5
}
